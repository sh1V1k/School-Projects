{
 "cells": [
  {
   "cell_type": "markdown",
   "metadata": {},
   "source": [
    "# Lab 2: Histograms, law of large numbers, simulating simple games"
   ]
  },
  {
   "cell_type": "markdown",
   "metadata": {},
   "source": [
    "Please begin by running the code in the following cell to import the packages that are used in this notebook."
   ]
  },
  {
   "cell_type": "code",
   "execution_count": 10,
   "metadata": {},
   "outputs": [
    {
     "name": "stdout",
     "output_type": "stream",
     "text": [
      "Modules Imported!\n"
     ]
    }
   ],
   "source": [
    "%matplotlib inline\n",
    "import matplotlib.pyplot as plt\n",
    "import numpy as np\n",
    "import scipy as sp\n",
    "import scipy.stats as st\n",
    "import math\n",
    "import random\n",
    "print (\"Modules Imported!\")"
   ]
  },
  {
   "cell_type": "markdown",
   "metadata": {},
   "source": [
    "## Plotting a Histogram:"
   ]
  },
  {
   "cell_type": "markdown",
   "metadata": {},
   "source": [
    "A histogram is a graphical representation of a distribution. It shows the frequency at which values occur. Suppose a probability class has 400 students in it. We can simulate random tests scores (with an average of 70) and plot a histogram. The np.random.rand() function returns a number between 0 and 1. It is from a continuous uniform distribution on this interval. It means that for any $c$ between 0 and 1, the probability the sample number is less than or equal to $c$ is equal to $c.$"
   ]
  },
  {
   "cell_type": "code",
   "execution_count": null,
   "metadata": {},
   "outputs": [],
   "source": [
    "x = np.zeros(400) #Generates an initial array with 400 students\n",
    "for i in range(400): #Loops through each of the students\n",
    "    x[i] = (int)(25*(np.random.rand()-np.random.rand())+70) #Generates a random test score for that student\n",
    "plt.hist(x,bins=int(np.max(x)-np.min(x))) #Plots a Histogram in range of all valid test scores\n",
    "plt.title(\"Histogram of Test Scores\")\n",
    "plt.xlabel('Test Score')\n",
    "plt.ylabel('Number of Students')"
   ]
  },
  {
   "cell_type": "markdown",
   "metadata": {},
   "source": [
    "For simulation purposes, it is useful to be able to get a value after a single trial of an RV based on a certain distribution. These are called random variates. From the stats module we've used, you simply need to call the rvs function with a size as an input. NumPy also has an easy way to do this through the random module. When you run the code below, you should see two histograms from the same normal distributions. "
   ]
  },
  {
   "cell_type": "code",
   "execution_count": null,
   "metadata": {},
   "outputs": [],
   "source": [
    "#Simulates a Gaussian RV 100 times in two different ways and creates a histogram\n",
    "\n",
    "X = st.norm()\n",
    "np.random.seed(100)\n",
    "x = X.rvs(size = 100) #Generates a vector with the results of 100 outputs or trials based on the standard Gaussian distribution\n",
    "np.random.seed(100)\n",
    "y = np.random.normal(size = 100) #Generates a vector with the results of 100 outputs based on the standard Gaussian distribution\n",
    "plt.hist(x); #Creates a histogram of those results, the default value for the number of bins is bins=10\n",
    "plt.title('Histogram of SciPy.Stats Normal Distribution')\n",
    "plt.figure()\n",
    "plt.hist(y);\n",
    "plt.title('Histogram of NumPy Normal Distribution')"
   ]
  },
  {
   "cell_type": "markdown",
   "metadata": {},
   "source": [
    "The scipy and numpy methods for getting these variates should produce the same results, but the two histograms are different. This is due to the random number generator. If we seed the random number generator before running the methods, they should produce consistent results. In the code there are two commented lines with np.random.seed(100). Uncomment these, and run the code again. You should see the histograms are the same now. Essentially, seeding the random number generator, tells it where to start in it's sequence."
   ]
  },
  {
   "cell_type": "markdown",
   "metadata": {},
   "source": [
    "**<SPAN style=\"BACKGROUND-COLOR: #C0C0C0\">Problem 1:</SPAN>** Using the custom discrete variable you made for a roll of the die in Lab 1, or some other method (include a text cell or a comment in the code to explain your method): \n",
    "\n",
    "1. Simulate 100 rolls using the .rvs() method in the stats module. Plot a histogram of the results. Is it what you would expect?\n",
    "2. Now simulate 10,000 rolls of the die and again plot a histogram. Observe any difference and explain your observation. "
   ]
  },
  {
   "cell_type": "code",
   "execution_count": null,
   "metadata": {},
   "outputs": [],
   "source": [
    "# Your code here\n",
    "p = (1./6,1./6,1./6,1./6,1./6,1./6) #Vector of probabilities (as a tuple)\n",
    "c = (1,2,3,4,5,6) #Vector of values (as a tuple)\n",
    "X = st.rv_discrete(values=(c,p)) #Creates an instance (aka object) of rv_discrete from our vectors\n",
    "#Code above is from lab 1\n",
    "x = X.rvs(size = 100) #running a simulation of 100 dice rolls\n",
    "y = X.rvs(size = 10000) #running a simulation of 10,000 dice rolls\n",
    "plt.hist(x); #Creates a histogram of those results, the default value for the number of bins is bins=10\n",
    "plt.title('Histogram of 100 die rolls')\n",
    "plt.figure()\n",
    "plt.hist(y);\n",
    "plt.title('Histogram of 10,000 die rolls')"
   ]
  },
  {
   "cell_type": "markdown",
   "metadata": {},
   "source": [
    "__Answer:__ For my 100 rolls simulation my histogram was more biased towards 3 and 6, which is not what we would expect, but by doing more trials we get an even distribution."
   ]
  },
  {
   "cell_type": "markdown",
   "metadata": {},
   "source": [
    "**<SPAN style=\"BACKGROUND-COLOR: #C0C0C0\">End of Problem 1</SPAN>**"
   ]
  },
  {
   "cell_type": "markdown",
   "metadata": {},
   "source": [
    "## The Law of Large Numbers:"
   ]
  },
  {
   "cell_type": "markdown",
   "metadata": {},
   "source": [
    "The law of large numbers describes the result of performing the same experiment a large number of times. Let $X_1,X_2, \\ldots ,X_n$ be a set of uncorrelated random variables, each with a finite mean of $\\mu$. Let $S_n$ represent the sum of these random variables: $S_n=X_1+X_2+...+X_n$. The law of large numbers states that $P\\left\\{\\Big|\\frac{S_n}{n}-\\mu\\Big|\\ge\\delta\\right\\}\\le\\frac{C}{n\\delta^2}\\to0$ as $n\\to\\infty$. Put another way this simply states that the sum of the RVs divided by n converges in some sense to the mean ($\\frac{S_n}{n}\\to\\mu$). A proof of this is given in the ECE 313 textbook, using a bounded variance assumption and the Chebychev inequality.\n",
    "\n",
    "To observe this behavior by simulation, let's look at the Poisson distribution. A Poisson RV has a single parameter $\\lambda$ which represents the mean number of occurances or counts, such as the mean number of hits your Youtube video gets in a day.  Then the probability that your video gets $i$ hits in one day is given by the pmf: $p(i)=\\frac{\\lambda^ie^{-\\lambda}}{i!}$. So what if you totalled the number of hits you received each day for a week, month, or year and divided by that many days? The law of large numbers asserts that as $n$ gets large this should go to the mean $\\lambda$. Below, we create a Poisson distribution where $\\lambda=5$ hits per day. We retrieve a random variate each day and model the law of large numbers over time. Try running the cell multiple times and see how much variation there is for different runs."
   ]
  },
  {
   "cell_type": "code",
   "execution_count": null,
   "metadata": {},
   "outputs": [],
   "source": [
    "lamb = 10. #Our rate of hits per day\n",
    "N = 100 #Number of days we are going to simulate over\n",
    "x = [st.poisson.rvs(lamb)]    #Gets the number of hits on the first day and stores it in a vector\n",
    "y = [np.random.poisson(lamb)] #Same using numpy instead of scipy.stats\n",
    "Sx = [0] #Sx will represent cumulative sums of the random variates at different times\n",
    "Sy = [0] \n",
    "Ax = [0.0] #Ax will be an array of averages, Sx/n, at different times\n",
    "Ay = [0.0]\n",
    "\n",
    "for n in range(1,N+1): #Simulates over N days\n",
    "    x.append(st.poisson.rvs(lamb)) #Appends the number of hits of the next day to the vector\n",
    "    y.append(np.random.poisson(lamb))\n",
    "    Sx.append(Sx[n-1]+x[n]) #Appends the sum at n to the vector\n",
    "    Sy.append(Sy[n-1]+y[n])\n",
    "    Ax.append(Sx[n]/(1.*n)) #Appends the sum over n to the vector\n",
    "    Ay.append(Sy[n]/(1.*n))\n",
    "\n",
    "n = np.linspace(0,N,N+1) #Generates an array of N+1 points from 0 to N for graphing purposes\n",
    "\n",
    "plt.plot(Sx, label = 'Total # of Hits X') #Plots the total number of hits\n",
    "plt.plot(Sy, label = 'Total # of Hits Y')\n",
    "plt.plot(n, lamb*n, label = 'lambda*n') #Plots a line based on the rate given\n",
    "plt.title('Cumulative number of hits')\n",
    "plt.ylabel('Number of hits')\n",
    "plt.xlabel('Number of days')\n",
    "plt.legend()\n",
    "\n",
    "plt.figure() #Creates a new figure\n",
    "plt.plot(Ax, label = 'S_x/n') #Plots the average number of hits\n",
    "plt.plot(Ay, label = 'S_y/n')\n",
    "plt.plot(lamb*np.ones(N+1), label = 'rate lambda') #Plots the expected average\n",
    "plt.title('Running average number of hits per day')\n",
    "plt.ylabel('Running average number of hits per day')\n",
    "plt.xlabel('Number of days')\n",
    "plt.legend()"
   ]
  },
  {
   "cell_type": "markdown",
   "metadata": {},
   "source": [
    "You can play with the above code. Change $\\lambda$ or change the number of days we simulate over. You should see that $\\frac{S_n}{n}\\to\\lambda$ as the number of days, $n$, increases. \n",
    "<br><br>**<SPAN style=\"BACKGROUND-COLOR: #C0C0C0\">Problem 2:</SPAN>** Using your discrete die rolling RV, once again simulate 10000 rolls of the die. \n",
    "\n",
    "1. Show graphically that the law of large numbers is maintained for the average of the numbers of the first $n$ rolls as $n\\rightarrow\\infty.$ \n",
    "2. What would be a rough approximation of the sum? Of the average?  \n",
    "\n",
    "(Note: There is no parameter $\\lambda$ associated with the roll of a die.  But the mean value of a roll plays the same role.)"
   ]
  },
  {
   "cell_type": "code",
   "execution_count": 7,
   "metadata": {},
   "outputs": [
    {
     "data": {
      "text/plain": [
       "<matplotlib.legend.Legend at 0x2ac892497d0>"
      ]
     },
     "execution_count": 7,
     "metadata": {},
     "output_type": "execute_result"
    },
    {
     "data": {
      "image/png": "[encoded data removed]",
      "text/plain": [
       "<Figure size 640x480 with 1 Axes>"
      ]
     },
     "metadata": {},
     "output_type": "display_data"
    },
    {
     "data": {
      "image/png": "[encoded data removed]",
      "text/plain": [
       "<Figure size 640x480 with 1 Axes>"
      ]
     },
     "metadata": {},
     "output_type": "display_data"
    }
   ],
   "source": [
    "# Your code here\n",
    "p = (1./6,1./6,1./6,1./6,1./6,1./6) #Vector of probabilities (as a tuple)\n",
    "c = (1,2,3,4,5,6) #Vector of values (as a tuple)\n",
    "X = st.rv_discrete(values=(c,p)) #Creates an instance (aka object) of rv_discrete from our vectors\n",
    "x = [X.rvs()]\n",
    "lamb = X.mean() #Our rate of rolls per day\n",
    "N = 10000 #Number of days we are going to simulate over\n",
    "Sx = [0] #Sx will represent cumulative sums of the random variates at different times\n",
    "Ax = [0.0] #Ax will be an array of averages, Sx/n, at different times\n",
    "\n",
    "for n in range(1,N+1): #Simulates over N days\n",
    "    x.append(X.rvs()) #Appends the number of hits of the next day to the vector\n",
    "    Sx.append(Sx[n-1]+x[n]) #Appends the sum at n to the vector\n",
    "    Ax.append(Sx[n]/(1.*n)) #Appends the sum over n to the vector\n",
    "\n",
    "n = np.linspace(0,N,N+1) #Generates an array of N+1 points from 0 to N for graphing purposes\n",
    "\n",
    "plt.plot(Sx, label = 'Total value of rolls') #Plots the total number of rolls\n",
    "plt.plot(n, lamb*n, label = 'lambda*n') #Plots a line based on the rate given\n",
    "plt.title('Cumulative number of rolls')\n",
    "plt.ylabel('Number of sum of rolls')\n",
    "plt.xlabel('Number of days')\n",
    "plt.legend()\n",
    "\n",
    "plt.figure() #Creates a new figure\n",
    "plt.plot(Ax, label = 'S_x/n') #Plots the average number of rolls\n",
    "plt.plot(lamb*np.ones(N+1), label = 'rate lambda') #Plots the expected average\n",
    "plt.title('Running average number of roll per day')\n",
    "plt.ylabel('Running average number of roll per day')\n",
    "plt.xlabel('Number of days')\n",
    "plt.legend()"
   ]
  },
  {
   "cell_type": "markdown",
   "metadata": {},
   "source": [
    "__Answer:__ Rough approximation for the sum and average would be 35,000 and 3.5 respectively and this agrees with our calculated values"
   ]
  },
  {
   "cell_type": "markdown",
   "metadata": {},
   "source": [
    "**<SPAN style=\"BACKGROUND-COLOR: #C0C0C0\">End of Problem 2</SPAN>**"
   ]
  },
  {
   "cell_type": "markdown",
   "metadata": {},
   "source": [
    "## Additional Lab Questions:"
   ]
  },
  {
   "cell_type": "markdown",
   "metadata": {},
   "source": [
    "**For the completeion of this lab, make sure to do questions 1-2 as well as these two additional questions:**\n",
    "<br><br>**<SPAN style=\"BACKGROUND-COLOR: #C0C0C0\">Problem 3:</SPAN>** If you thought you could get out of your first probability lab without some questions on poker hands, I'm sorry, but they're too good to pass up. Suppose you draw five cards from a standard 52 card deck.\n",
    "<ol><li>Calculate the probabilities of getting a TWO PAIR, THREE OF A KIND, FULLHOUSE, and a FLUSH; print out these probabilities. You need to write down your calculation process, either in a markdown or code cell, not just the result probabilities. (Note: FLUSHes include straight/royal FLUSHes) </li> \n",
    "<li>Simulate 1,000,000 poker hands, count the number of times you get for each of the above hands and find the empirical probability of getting each of the above hands.  Your simulated hands\n",
    "should include all possible poker hands. (Hint: One way to represent a random poker hand is to use a 4 by 13 binary array with ones placed at five randomly chosen locations.  The np.sum command can be used to compute row or column sums. If you don't know how to generate random integers in Python, Google is a good source for help.)</li>\n",
    "<li>Do the probabilities match up relatively well?</li>\n",
    "</ol>\n",
    "\n",
    "(For most lab questions in ECE314, you will be graded based on the correctness of your answers, regardless of how you code. However, for part 2 of this problem, you may lose a few points for very inefficient code, e.g. with a lot of for loops and unecessary if structures. As a general guideline, if your program can run in one minute (for 1,000,000 hands), it should be sufficiently efficient, although this is not a hard requirement). "
   ]
  },
  {
   "cell_type": "code",
   "execution_count": 8,
   "metadata": {},
   "outputs": [
    {
     "name": "stdout",
     "output_type": "stream",
     "text": [
      "Probability of a Flush:  0.19807923169267708 %\n",
      "Probability of a Full House:  0.14405762304921968 %\n",
      "Probability of a Three of a Kind:  2.112845138055222 %\n",
      "Probability of a Two Pair:  4.75390156062425 %\n"
     ]
    }
   ],
   "source": [
    "# Your code here (add addtitional code/markdown cells if needed)\n",
    "\n",
    "prob_flush = 4*(math.comb(13,5))/(math.comb(52,5))\n",
    "print(\"Probability of a Flush: \",prob_flush*100,\"%\")\n",
    "prob_fullhouse = (math.comb(13,1))*(math.comb(4,3))*(math.comb(12,1))*(math.comb(4,2))/(math.comb(52,5))\n",
    "print(\"Probability of a Full House: \",prob_fullhouse*100, \"%\")\n",
    "prob_three_of_a_kind = (math.comb(13,1))*(math.comb(4,3))*(math.comb(12,2))*(math.comb(4,1))*(math.comb(4,1))/(math.comb(52,5))\n",
    "print(\"Probability of a Three of a Kind: \",prob_three_of_a_kind*100,\"%\")\n",
    "prob_two_pair = (math.comb(13,2))*(math.comb(4,2))*(math.comb(4,2))*(math.comb(11,1))*(math.comb(4,1))/(math.comb(52,5))\n",
    "print(\"Probability of a Two Pair: \",prob_two_pair*100,\"%\")"
   ]
  },
  {
   "cell_type": "markdown",
   "metadata": {},
   "source": [
    "$$\\frac{{4 \\choose 1}{13 \\choose 4}}{52 \\choose 5}$$\n",
    "Flush calculation\n"
   ]
  },
  {
   "cell_type": "markdown",
   "metadata": {},
   "source": [
    "$$\\frac{{13 \\choose 1}{4 \\choose 3}{12 \\choose 1}{4 \\choose 2}}{52 \\choose 5}$$\n",
    "\n",
    "Full house calculation"
   ]
  },
  {
   "cell_type": "markdown",
   "metadata": {},
   "source": [
    "$$\\frac{{13 \\choose 1}{4 \\choose 3}{12 \\choose 2}{4 \\choose 1}^2}{52 \\choose 5}$$\n",
    "\n",
    "Three of a kind calculation"
   ]
  },
  {
   "cell_type": "markdown",
   "metadata": {},
   "source": [
    "$$\\frac{{13 \\choose 2}{4 \\choose 2}^2{11 \\choose 1}{4 \\choose 1}}{52 \\choose 5}$$\n",
    "\n",
    "two pair calculation"
   ]
  },
  {
   "cell_type": "code",
   "execution_count": 11,
   "metadata": {},
   "outputs": [
    {
     "name": "stdout",
     "output_type": "stream",
     "text": [
      "Two Pairs: 356350 occurrences (0.3564 probability)\n",
      "Three of a Kind: 21308 occurrences (0.0213 probability)\n",
      "Flush: 2035 occurrences (0.0020 probability)\n",
      "Full House: 1511 occurrences (0.0015 probability)\n",
      "Other: 618796 occurrences (0.6188 probability)\n"
     ]
    }
   ],
   "source": [
    "deck = np.zeros((4, 13), dtype=int) # 4 by 13 binary array to represent a poker hand\n",
    "\n",
    "def evaluate_hand(deck):\n",
    "    rank = np.sum(deck, axis = 0) # counts the the number of cards in a specific rank\n",
    "    suit = np.sum(deck, axis = 1) # counts the the cards in a specific suit\n",
    "    if np.any(suit == 5):\n",
    "        return 2\n",
    "    if np.any(rank == 3) and np.any(rank == 2):\n",
    "        return 3 #check for full house\n",
    "    if np.any(rank == 3):\n",
    "        return 1 #check for three of a kind\n",
    "    if np.sort(suit)[-1] == 2 and np.sort(suit)[-2] == 2:\n",
    "        return 0 #check for two pair\n",
    "    return 4\n",
    "    \n",
    "ranks = [\"2\", \"3\", \"4\", \"5\", \"6\", \"7\", \"8\", \"9\", \"10\", \"Jack\", \"Queen\", \"King\", \"Ace\"] # array to evaluate rank\n",
    "suits = [\"Hearts\", \"Diamonds\", \"Clubs\", \"Spades\"] # array to evaluate suit\n",
    "\n",
    "# Create a dictionary to map hand types to their names\n",
    "hand_names = {\n",
    "    0: \"Two Pairs\",\n",
    "    1: \"Three of a Kind\",\n",
    "    2: \"Flush\",\n",
    "    3: \"Full House\",\n",
    "    4: \"Other\",\n",
    "}\n",
    "\n",
    "hand_counts = {hand_names[i]: 0 for i in range(5)} # a dictionary to help count the number of times we get each hand\n",
    "\n",
    "for _ in range(1000000):\n",
    "    deck.fill(0) # Reset the deck\n",
    "    \n",
    "    # Generate a random poker hand\n",
    "    for _ in range(5):\n",
    "        while True:\n",
    "            suit = np.random.randint(4)\n",
    "            rank = np.random.randint(13) \n",
    "            if deck[suit, rank] == 0: #if some how the same card is \"drawn\" it just generates a new random card until there\n",
    "                deck[suit, rank] = 1  #are 5 unique cards\n",
    "                break\n",
    "    \n",
    "    # Evaluate the hand and count it\n",
    "    hand_type = evaluate_hand(deck)\n",
    "    hand_counts[hand_names[hand_type]] += 1\n",
    "\n",
    "probabilities = {hand: count / 10000 for hand, count in hand_counts.items()} # Calculate probabilities\n",
    "\n",
    "# Print results\n",
    "for hand, count in hand_counts.items():\n",
    "    print(f\"{hand}: {count} occurrences ({probabilities[hand]:.4f} %)\")\n"
   ]
  },
  {
   "cell_type": "markdown",
   "metadata": {},
   "source": [
    "__Answer:__ Generally the probabilities follow the prediction, but it seems to be that a two pair is a lot more common than predicted. This might just be due to the way random number are generated."
   ]
  },
  {
   "cell_type": "markdown",
   "metadata": {},
   "source": [
    "**<SPAN style=\"BACKGROUND-COLOR: #C0C0C0\">End of Problem 3</SPAN>**"
   ]
  },
  {
   "cell_type": "markdown",
   "metadata": {},
   "source": [
    "**<SPAN style=\"BACKGROUND-COLOR: #C0C0C0\">Problem 4:</SPAN>** A classic problem when being introduced to probability is the Monty Hall problem. If you've ever seen \"Let's Make a Deal\" on television, this problem takes from that show. You're the contestant. The host of the show gives you three doors to choose from. One door chosen at random holds a grand prize and the other two hold worthless items. You choose your door, and then the host reveals one of the doors you didn't choose such that it always holds a worthless item.  (If you initially choose the door with the grand prize, the host reveals either of the other doors with equal probability.) So now there are two doors left and the host asks you whether you would like to switch. What should you do?\n",
    "<ol><li>Write down your first reaction? Would you switch doors or keep the one you have? Why?</li>\n",
    "    <li>Create this scenario and simulate the strategy of sticking with the same door 1,000,000 times. What percentage of time did you win?</li>\n",
    "    <li>Simulate the strategy of switching doors 1,000,000 times. What percentage of time did you win?</li>\n",
    "    <li>Which strategy would you use now? Explain why this is the case.</li>\n",
    "</ol>\n",
    "\n",
    "In the simulation, you can simulate every step that happens in the actual game and exactly as it happens, even for very trivial steps. You can also clever-guess some parts and skip some trivial steps; if you do that, make sure you briefly reason about why you do so in comments, so that the graders know that you understand what actually happens in the game. There is no timing requirement for this problem.  "
   ]
  },
  {
   "cell_type": "markdown",
   "metadata": {},
   "source": [
    "__Answer of Part 1:__ (Your answer here)"
   ]
  },
  {
   "cell_type": "code",
   "execution_count": null,
   "metadata": {},
   "outputs": [],
   "source": [
    "wins_with_switch = 0\n",
    "wins_without_switch = 0\n",
    "for i in range(1000000):\n",
    "    prize = random.randint(1, 3)\n",
    "    chosen = random.randint(1, 3)\n",
    "    reveal = [door for door in range(1, 4) if door != chosen and door != prize]\n",
    "    revealed = random.choice(reveal)\n",
    "    chosen = [door for door in range(1, 4) if door != chosen and door != revealed][0] #switching door mechanism\n",
    "    if chosen == prize:\n",
    "        wins_with_switch += 1\n",
    "    else:\n",
    "        wins_without_switch += 1\n",
    "\n",
    "print(\"Percent of chance of winning when switching: \",wins_with_switch/10000,\"%\")\n",
    "print(\"Percent of chance of winning when NOT switching: \",wins_without_switch/10000,\"%\")"
   ]
  },
  {
   "cell_type": "markdown",
   "metadata": {},
   "source": [
    "__Answer of Part 4:__ I would switch since I know how this works. The best explantion I've heard of this was that switching allows you to turn the 2/3 chance of losing into a 2/3 chance of winning. In the scenario that you choose a losing door, by the rules of the game, the host has to reveal the other losing door. Switching would allow you go from a losing door to a winning door in that situation."
   ]
  },
  {
   "cell_type": "markdown",
   "metadata": {},
   "source": [
    "**<SPAN style=\"BACKGROUND-COLOR: #C0C0C0\">End of Problem 4</SPAN>**"
   ]
  },
  {
   "cell_type": "markdown",
   "metadata": {},
   "source": [
    "<div class=\"alert alert-block alert-warning\"> \n",
    "## Academic Integrity Statement ##\n",
    "\n",
    "By submitting the lab with this statement, you declare you have written up the lab entirely by yourself, including both code and markdown cells. You also agree that you should not share your code with anyone else. Any violation of the academic integrity requirement may cause an academic integrity report to be filed that could go into your student record. See <a href=\"https://provost.illinois.edu/policies/policies/academic-integrity/students-quick-reference-guide-to-academic-integrity/\">Students' Quick Reference Guide to Academic Integrity</a> for more information. "
   ]
  }
 ],
 "metadata": {
  "anaconda-cloud": {},
  "kernelspec": {
   "display_name": "Python 3 (ipykernel)",
   "language": "python",
   "name": "python3"
  },
  "language_info": {
   "codemirror_mode": {
    "name": "ipython",
    "version": 3
   },
   "file_extension": ".py",
   "mimetype": "text/x-python",
   "name": "python",
   "nbconvert_exporter": "python",
   "pygments_lexer": "ipython3",
   "version": "3.11.4"
  }
 },
 "nbformat": 4,
 "nbformat_minor": 1
}
